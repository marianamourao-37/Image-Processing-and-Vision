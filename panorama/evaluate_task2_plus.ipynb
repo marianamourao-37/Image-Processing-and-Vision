{
 "cells": [
  {
   "cell_type": "code",
   "execution_count": null,
   "metadata": {},
   "outputs": [],
   "source": [
    "# Panorama\n",
    "ref_image = 3\n",
    "input_dir = '/DATASETS/quarto'\n",
    "output_dir = 'panorama_quarto'\n",
    "extract_sift = 0 # variable that tunes if the extraction of sift keypoints and descriptors is to be performed (set to 1) or not (set to 0) \n",
    "\n",
    "subsampling = 1 # variable that tunes the subsampling (set to 1) or not (set to 0) of the souce image descriptors, \n",
    "                   # when performing the matching \n",
    "    \n",
    "cv2WarpPerspective = 0 # variable that tunes if image warping is to be performed by cv2WarpPerspective built-in function (set to 1)\n",
    "                           # or a function developed by the group (set to 0) \n",
    "\n",
    "feathering = 0 # variable that tunes if feathering is going to be performed (set to 1) or (set to 0) not for blending the warped images \n",
    "\n",
    "\n",
    "# Run project code\n",
    "os.system('python3 pivproject2022_task2_plus.py %d %s %s %d %d %d %d' %(ref_image, path_to_input_folder, path_to_output_folder, extract_sift, subsampling, cv2WarpPerspective, feathering))\n",
    "# os.system('octave pivproject2022_task2.m %d %s %s' %(ref_image, input_dir, output_dir))\n",
    "print('finished running code')"
   ]
  }
 ],
 "metadata": {
  "kernelspec": {
   "display_name": "Python 3",
   "language": "python",
   "name": "python3"
  },
  "language_info": {
   "codemirror_mode": {
    "name": "ipython",
    "version": 3
   },
   "file_extension": ".py",
   "mimetype": "text/x-python",
   "name": "python",
   "nbconvert_exporter": "python",
   "pygments_lexer": "ipython3",
   "version": "3.8.5"
  }
 },
 "nbformat": 4,
 "nbformat_minor": 4
}
