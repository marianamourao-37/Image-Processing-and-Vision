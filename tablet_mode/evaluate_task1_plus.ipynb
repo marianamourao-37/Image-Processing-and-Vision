{
 "cells": [
  {
   "cell_type": "code",
   "execution_count": null,
   "metadata": {},
   "outputs": [],
   "source": [
    "# SNS ----replace this entry -\n",
    "template_dir = '/DATASETS/formsns/template'\n",
    "\n",
    "input_dir = '/DATASETS/receitaSNS'\n",
    "output_dir = 'Output_folder_receitasns_ultimo'\n",
    "\n",
    "extract_sift =0 # variable that tunes if the extraction of sift keypoints and descriptors is to be performed (set to 1, 0 otherwise)\n",
    "\n",
    "subsampling = 1 # variable that tunes the subsampling (set to 1) or not (set to 0) of the souce image descriptors, \n",
    "                               # when performing the matching \n",
    "    \n",
    "cv2WarpPerspective = 0 # variable that tunes if image warping is to be performed by cv2WarpPerspective built-in function (set to 1)\n",
    "                                      # or a function developed by the group (set to 0) \n",
    "\n",
    "segment = 1 # variable that tunes the skin segmentation (set to 1) or not (set to 0) of the warping images\n",
    "\n",
    "# Run project code\n",
    "os.system('python3 pivproject2022_task1_plus.py %s %s %s %d %d %d %d' %(template_dir, input_dir, output_dir, extract_sift, subsampling, cv2WarpPerspective, segment))\n",
    "# os.system('octave pivproject2022_task1.m %s %s %s' %(template_dir, input_dir, output_dir))\n",
    "print('finished running code')"
   ]
  }
 ],
 "metadata": {
  "kernelspec": {
   "display_name": "Python 3",
   "language": "python",
   "name": "python3"
  },
  "language_info": {
   "codemirror_mode": {
    "name": "ipython",
    "version": 3
   },
   "file_extension": ".py",
   "mimetype": "text/x-python",
   "name": "python",
   "nbconvert_exporter": "python",
   "pygments_lexer": "ipython3",
   "version": "3.8.5"
  }
 },
 "nbformat": 4,
 "nbformat_minor": 4
}
